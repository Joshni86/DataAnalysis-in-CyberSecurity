{
 "cells": [
  {
   "cell_type": "markdown",
   "id": "bb163b7b",
   "metadata": {
    "id": "bb163b7b"
   },
   "source": [
    "Step 1. Ensure that you have the dataset file named `transactions.csv` in the current directory.\n",
    "\n",
    "The dataset is a subset of https://www.kaggle.com/ealaxi/paysim1/version/2 which was originally generated as part of the following research:\n",
    "\n",
    "E. A. Lopez-Rojas , A. Elmir, and S. Axelsson. \"PaySim: A financial mobile money simulator for fraud detection\". In: The 28th European Modeling and Simulation Symposium-EMSS, Larnaca, Cyprus. 2016"
   ]
  },
  {
   "cell_type": "code",
   "execution_count": 5,
   "id": "73e631ce-268b-4c85-91f5-8528dce71e4f",
   "metadata": {},
   "outputs": [
    {
     "name": "stdout",
     "output_type": "stream",
     "text": [
      "Requirement already satisfied: matplotlib in c:\\users\\joshn\\appdata\\local\\programs\\python\\python312\\lib\\site-packages (3.9.2)\n",
      "Requirement already satisfied: contourpy>=1.0.1 in c:\\users\\joshn\\appdata\\local\\programs\\python\\python312\\lib\\site-packages (from matplotlib) (1.3.0)\n",
      "Requirement already satisfied: cycler>=0.10 in c:\\users\\joshn\\appdata\\local\\programs\\python\\python312\\lib\\site-packages (from matplotlib) (0.12.1)\n",
      "Requirement already satisfied: fonttools>=4.22.0 in c:\\users\\joshn\\appdata\\local\\programs\\python\\python312\\lib\\site-packages (from matplotlib) (4.53.1)\n",
      "Requirement already satisfied: kiwisolver>=1.3.1 in c:\\users\\joshn\\appdata\\local\\programs\\python\\python312\\lib\\site-packages (from matplotlib) (1.4.7)\n",
      "Requirement already satisfied: numpy>=1.23 in c:\\users\\joshn\\appdata\\local\\programs\\python\\python312\\lib\\site-packages (from matplotlib) (1.26.2)\n",
      "Requirement already satisfied: packaging>=20.0 in c:\\users\\joshn\\appdata\\local\\programs\\python\\python312\\lib\\site-packages (from matplotlib) (23.2)\n",
      "Requirement already satisfied: pillow>=8 in c:\\users\\joshn\\appdata\\local\\programs\\python\\python312\\lib\\site-packages (from matplotlib) (10.4.0)\n",
      "Requirement already satisfied: pyparsing>=2.3.1 in c:\\users\\joshn\\appdata\\local\\programs\\python\\python312\\lib\\site-packages (from matplotlib) (3.1.4)\n",
      "Requirement already satisfied: python-dateutil>=2.7 in c:\\users\\joshn\\appdata\\local\\programs\\python\\python312\\lib\\site-packages (from matplotlib) (2.8.2)\n",
      "Requirement already satisfied: six>=1.5 in c:\\users\\joshn\\appdata\\local\\programs\\python\\python312\\lib\\site-packages (from python-dateutil>=2.7->matplotlib) (1.16.0)\n"
     ]
    },
    {
     "name": "stderr",
     "output_type": "stream",
     "text": [
      "\n",
      "[notice] A new release of pip is available: 24.0 -> 24.2\n",
      "[notice] To update, run: python.exe -m pip install --upgrade pip\n"
     ]
    }
   ],
   "source": [
    "!pip install matplotlib"
   ]
  },
  {
   "cell_type": "markdown",
   "id": "72c898bd",
   "metadata": {
    "id": "72c898bd"
   },
   "source": [
    "Step 2. Complete the following exercises.\n",
    "\n",
    "0. Read the dataset (`transactions.csv`) as a Pandas dataframe. Note that the first row of the CSV contains the column names.\n",
    "\n",
    "0. Return the column names as a list from the dataframe.\n",
    "\n",
    "0. Return the first k rows from the dataframe.\n",
    "\n",
    "0. Return a random sample of k rows from the dataframe.\n",
    "\n",
    "0. Return a list of the unique transaction types.\n",
    "\n",
    "0. Return a Pandas series of the top 10 transaction destinations with frequencies.\n",
    "\n",
    "0. Return all the rows from the dataframe for which fraud was detected.\n",
    "\n",
    "0. Bonus. Return a dataframe that contains the number of distinct destinations that each source has interacted with to, sorted in descending order. You will find [groupby](https://pandas.pydata.org/pandas-docs/stable/reference/api/pandas.DataFrame.groupby.html) and [agg](https://pandas.pydata.org/pandas-docs/stable/reference/api/pandas.core.groupby.DataFrameGroupBy.aggregate.html) useful. The predefined aggregate functions are under `pandas.core.groupby.GroupBy.*`. See the [left hand column](https://pandas.pydata.org/pandas-docs/stable/reference/api/pandas.core.groupby.DataFrameGroupBy.nunique.html)."
   ]
  },
  {
   "cell_type": "markdown",
   "id": "5db9e1f5-8631-4d16-b863-e137870acd8c",
   "metadata": {
    "id": "72c898bd"
   },
   "source": [
    "Step 2. Complete the following exercises.\n",
    "\n",
    "0. Read the dataset (`transactions.csv`) as a Pandas dataframe. Note that the first row of the CSV contains the column names.\n",
    "\n",
    "0. Return the column names as a list from the dataframe.\n",
    "\n",
    "0. Return the first k rows from the dataframe.\n",
    "\n",
    "0. Return a random sample of k rows from the dataframe.\n",
    "\n",
    "0. Return a list of the unique transaction types.\n",
    "\n",
    "0. Return a Pandas series of the top 10 transaction destinations with frequencies.\n",
    "\n",
    "0. Return all the rows from the dataframe for which fraud was detected.\n",
    "\n",
    "0. Bonus. Return a dataframe that contains the number of distinct destinations that each source has interacted with to, sorted in descending order. You will find [groupby](https://pandas.pydata.org/pandas-docs/stable/reference/api/pandas.DataFrame.groupby.html) and [agg](https://pandas.pydata.org/pandas-docs/stable/reference/api/pandas.core.groupby.DataFrameGroupBy.aggregate.html) useful. The predefined aggregate functions are under `pandas.core.groupby.GroupBy.*`. See the [left hand column](https://pandas.pydata.org/pandas-docs/stable/reference/api/pandas.core.groupby.DataFrameGroupBy.nunique.html)."
   ]
  },
  {
   "cell_type": "markdown",
   "id": "2f146b9d",
   "metadata": {
    "id": "2f146b9d"
   },
   "source": [
    "Use the empty cell to test the exercises. If you modify the original `df`, you can rerun the cell containing `exercise_0`."
   ]
  },
  {
   "cell_type": "code",
   "execution_count": null,
   "id": "EDd3m5pMN01e",
   "metadata": {
    "id": "EDd3m5pMN01e"
   },
   "outputs": [],
   "source": [
    "import pandas as pd\n",
    "import matplotlib.pyplot as plt\n",
    "%matplotlib inline\n",
    "\n",
    "\n",
    "def exercise_0(file):\n",
    "    df=pd.read_csv(file)\n",
    "    return df\n",
    "\n",
    "def exercise_1(df):\n",
    "    col_list=df.columns.tolist()\n",
    "    return col_list\n",
    "\n",
    "def exercise_2(df, k):\n",
    "    return df.head(k)\n",
    "\n",
    "def exercise_3(df, k):\n",
    "    return df.sample(n=k)\n",
    "\n",
    "def exercise_4(df):\n",
    "    return df.type.unique()\n",
    "\n",
    "def exercise_5(df):\n",
    "    return df[\"nameDest\"].value_counts().head(10)\n",
    "\n",
    "def exercise_6(df):\n",
    "    isFraud=df.loc[df['isFraud'] == 1]\n",
    "    return isFraud\n",
    "\n",
    "def exercise_7(df):\n",
    "    result = df.groupby('nameOrig')['nameDest'].nunique().reset_index(name='Count').sort_values(by='Count', ascending=False)\n",
    "    return result\n",
    "    \n",
    "def visual_1(df):\n",
    "    def transaction_counts(df):\n",
    "       # TODO      \n",
    "        grouped = df.groupby(\"type\").size()\n",
    "        return grouped\n",
    "\n",
    "\n",
    "    def transaction_counts_split_by_fraud(df):\n",
    "        # TODO      \n",
    "        df_filtered = df[df[\"isFraud\"] == 1]\n",
    "        grouped = df_filtered.groupby(\"type\").size()\n",
    "        return grouped\n",
    "       \n",
    "    fig, axs = plt.subplots(2, figsize=(6,10))\n",
    "    transaction_counts(df).plot(ax=axs[0], kind='bar')\n",
    "    axs[0].set_title('Count based on Transaction Type')\n",
    "    axs[0].set_xlabel('Transaction type')\n",
    "    axs[0].set_ylabel('Count')\n",
    "    transaction_counts_split_by_fraud(df).plot(ax=axs[1], kind='bar')\n",
    "    axs[1].set_title('Fradulent activity based on Transaction Type')\n",
    "    axs[1].set_xlabel('Transaction Type')\n",
    "    axs[1].set_ylabel('No. of Frauds')\n",
    "    fig.suptitle('Count')\n",
    "    fig.tight_layout(rect=[0, 0.03, 1, 0.95])\n",
    "    for ax in axs:\n",
    "      for p in ax.patches:\n",
    "          ax.annotate(p.get_height(), (p.get_x(), p.get_height()))\n",
    "    return 'Count'\n",
    "\n",
    "def visual_2(df):\n",
    "    def query(df):\n",
    "        df_filtered=df[df[\"type\"]==\"CASH_OUT\"]\n",
    "        df_filtered['origin_delta'] = df_filtered['oldbalanceOrg'] - df_filtered['newbalanceOrig']\n",
    "        df_filtered['destination_delta'] = df_filtered['oldbalanceDest'] - df_filtered['newbalanceDest']\n",
    "        return df_filtered\n",
    "        \n",
    "    plot = query(df).plot.scatter(x='origin_delta',y='destination_delta')\n",
    "    plot.set_title('Original vs Destination balance delta')\n",
    "    plot.set_xlim(left=-1e3, right=1e3)\n",
    "    plot.set_ylim(bottom=-1e3, top=1e3)\n",
    "    return 'Delta'\n",
    "\n",
    "def exercise_custom(df):\n",
    "     # Grouping by 'nameDest' and summing 'newbalanceDest'\n",
    "    result = df.groupby('nameDest')['newbalanceDest'].sum().reset_index(name='sum')\n",
    "    return result\n",
    "    \n",
    "def visual_custom(df):\n",
    "    def summ(df):\n",
    "        df_filtered = df[df[\"isFraud\"]==1]\n",
    "        grouped = df_filtered.groupby(\"nameOrig\")['amount'].sum()\n",
    "        return grouped\n",
    "        \n",
    "    data = summ(df)\n",
    "    \n",
    "    if data.empty:\n",
    "        print(\"No data to plot\")\n",
    "    else:\n",
    "        data.plot(kind='bar')\n",
    "        \n",
    "        plt.xlabel('Original Name')\n",
    "        plt.ylabel('Total Amount')\n",
    "        plt.title('Total Amount by Original Name')\n",
    "        plt.show()\n",
    "    return 'BAR GRAPH'\n"
   ]
  },
  {
   "cell_type": "code",
   "execution_count": null,
   "id": "346fc3fc",
   "metadata": {
    "id": "346fc3fc"
   },
   "outputs": [],
   "source": [
    "df = exercise_0('transactions.csv')\n"
   ]
  },
  {
   "cell_type": "code",
   "execution_count": null,
   "id": "ffeb28ea-6384-48a8-8ec9-60d9a9c7895b",
   "metadata": {},
   "outputs": [],
   "source": [
    "#test exercises here\n",
    "print(\"EXCERCISE 1\")\n",
    "col_list=exercise_1(df)\n",
    "print(col_list)\n",
    "print(\"EXCERCISE 2\")\n",
    "firstRows=exercise_2(df,3)\n",
    "print(firstRows)\n",
    "print(\"EXCERCISE 3\")\n",
    "randomRows=exercise_3(df,5)\n",
    "print(randomRows)\n",
    "print(\"EXCERCISE 4\")\n",
    "uniqueType=exercise_4(df)\n",
    "print(uniqueType)\n",
    "print(\"EXCERCISE 5\")\n",
    "frequency=exercise_5(df)\n",
    "print(frequency)\n",
    "print(\"EXCERCISE 6\")\n",
    "fraud=exercise_6(df)\n",
    "print(fraud)\n",
    "print(\"EXCERCISE 7\")\n",
    "count=exercise_7(df)\n",
    "print(count)\n",
    "print(\"EXCERCISE CUSTOM\")\n",
    "custom=exercise_custom(df)\n",
    "print(custom)\n",
    "print(\"VISUAL 1\")\n",
    "visual_1(df)\n",
    "print(\"VISUAL 2\")\n",
    "visual_2(df)\n",
    "print(\"VISUAL CUSTOM\")\n",
    "visual_custom(df)"
   ]
  },
  {
   "cell_type": "markdown",
   "id": "ed2dc2f4",
   "metadata": {
    "id": "ed2dc2f4"
   },
   "source": [
    "Create graphs for the following. \n",
    "1. Transaction types bar chart, Transaction types split by fraud bar chart\n",
    "1. Origin account balance delta v. Destination account balance delta scatter plot for Cash Out transactions\n",
    "\n",
    "Ensure that the graphs have the following:\n",
    " - Title\n",
    " - Labeled Axes\n",
    " \n",
    "The function plot the graph and then return a string containing a short description explaining the relevance of the chart."
   ]
  },
  {
   "cell_type": "code",
   "execution_count": null,
   "id": "ab229b34",
   "metadata": {
    "id": "ab229b34"
   },
   "outputs": [],
   "source": [
    "def visual_1(df):\n",
    "    def transaction_counts(df):\n",
    "       # TODO      \n",
    "        grouped = df.groupby(\"type\").size()\n",
    "        return grouped\n",
    "\n",
    "\n",
    "    def transaction_counts_split_by_fraud(df):\n",
    "        # TODO      \n",
    "        df_filtered = df[df[\"isFraud\"] == 1]\n",
    "        grouped = df_filtered.groupby(\"type\").size()\n",
    "        return grouped\n",
    "       \n",
    "\n",
    "\n",
    "    fig, axs = plt.subplots(2, figsize=(6,10))\n",
    "    transaction_counts(df).plot(ax=axs[0], kind='bar')\n",
    "    axs[0].set_title('Count based on Transaction Type')\n",
    "    axs[0].set_xlabel('Transaction type')\n",
    "    axs[0].set_ylabel('Count')\n",
    "    transaction_counts_split_by_fraud(df).plot(ax=axs[1], kind='bar')\n",
    "    axs[1].set_title('Fradulent activity based on Transaction Type')\n",
    "    axs[1].set_xlabel('Transaction Type')\n",
    "    axs[1].set_ylabel('No. of Frauds')\n",
    "    fig.suptitle('Count')\n",
    "    fig.tight_layout(rect=[0, 0.03, 1, 0.95])\n",
    "    for ax in axs:\n",
    "      for p in ax.patches:\n",
    "          ax.annotate(p.get_height(), (p.get_x(), p.get_height()))\n",
    "    return 'Count'\n",
    "\n",
    "visual_1(df)\n"
   ]
  },
  {
   "cell_type": "code",
   "execution_count": null,
   "id": "38ab2f47",
   "metadata": {
    "id": "38ab2f47"
   },
   "outputs": [],
   "source": [
    "def visual_2(df):\n",
    "    def query(df):\n",
    "        df_filtered=df[df[\"type\"]==\"CASH_OUT\"]\n",
    "        df_filtered['origin_delta'] = df_filtered['oldbalanceOrg'] - df_filtered['newbalanceOrig']\n",
    "        df_filtered['destination_delta'] = df_filtered['oldbalanceDest'] - df_filtered['newbalanceDest']\n",
    "        return df_filtered\n",
    "        \n",
    "    plot = query(df).plot.scatter(x='origin_delta',y='destination_delta')\n",
    "    plot.set_title('Original vs Destination balance delta')\n",
    "    plot.set_xlim(left=-1e3, right=1e3)\n",
    "    plot.set_ylim(bottom=-1e3, top=1e3)\n",
    "    return 'Delta'\n",
    "\n",
    "visual_2(df)\n"
   ]
  },
  {
   "cell_type": "markdown",
   "id": "f572d06d",
   "metadata": {
    "id": "f572d06d"
   },
   "source": [
    "Use your newly-gained Pandas skills to find an insight from the dataset. You have full flexibility to go in whichever direction interests you. Please create a visual as above for this query. `visual_custom` should call `exercise_custom`."
   ]
  },
  {
   "cell_type": "code",
   "execution_count": null,
   "id": "5393e5c5",
   "metadata": {
    "id": "5393e5c5"
   },
   "outputs": [],
   "source": [
    "# import matplotlib.pyplot as plt\n",
    "\n",
    "def exercise_custom(df):\n",
    "    # Grouping by 'nameDest' and summing 'newbalanceDest'\n",
    "    result = df.groupby('nameDest')['newbalanceDest'].sum().reset_index(name='sum')\n",
    "    return result\n",
    "\n",
    "# def visual_custom(df):\n",
    "    def summ(df):\n",
    "        grouped = df.groupby(\"nameOrig\")['amount'].sum()\n",
    "        return grouped\n",
    "        \n",
    "    data = summ(df)\n",
    "    \n",
    "    if data.empty:\n",
    "        print(\"No data to plot\")\n",
    "    else:\n",
    "        data.plot(kind='bar')\n",
    "        \n",
    "        plt.xlabel('Original Name')\n",
    "        plt.ylabel('Total Amount')\n",
    "        plt.title('Total Amount by Original Name')\n",
    "        plt.show()\n",
    "    return 'BAR GRAPH'\n",
    "    \n",
    "# Call the functions with your dataframe\n",
    "exercise_custom(df)\n",
    "visual_custom(df)\n"
   ]
  },
  {
   "cell_type": "markdown",
   "id": "ddecc786",
   "metadata": {
    "id": "ddecc786"
   },
   "source": [
    "Submission\n",
    "\n",
    "1. Copy the exercises into `task1.py`.\n",
    "2. Upload `task1.py` to Forage."
   ]
  },
  {
   "cell_type": "markdown",
   "id": "qpIxC3xgQpOo",
   "metadata": {
    "id": "qpIxC3xgQpOo"
   },
   "source": [
    "All done!\n",
    "\n",
    "Your work will be instrumental for our team's continued success."
   ]
  },
  {
   "cell_type": "code",
   "execution_count": null,
   "id": "1091fa96-dfe0-4910-83dc-8fea4f09f83a",
   "metadata": {},
   "outputs": [],
   "source": []
  },
  {
   "cell_type": "code",
   "execution_count": null,
   "id": "a6580517-65ab-407a-8a65-f2372e09fb05",
   "metadata": {},
   "outputs": [],
   "source": []
  }
 ],
 "metadata": {
  "colab": {
   "collapsed_sections": [],
   "name": "task1.ipynb",
   "provenance": []
  },
  "kernelspec": {
   "display_name": "Python 3 (ipykernel)",
   "language": "python",
   "name": "python3"
  },
  "language_info": {
   "codemirror_mode": {
    "name": "ipython",
    "version": 3
   },
   "file_extension": ".py",
   "mimetype": "text/x-python",
   "name": "python",
   "nbconvert_exporter": "python",
   "pygments_lexer": "ipython3",
   "version": "3.12.4"
  }
 },
 "nbformat": 4,
 "nbformat_minor": 5
}
